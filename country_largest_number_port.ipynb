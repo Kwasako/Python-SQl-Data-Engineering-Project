{
 "cells": [
  {
   "cell_type": "code",
   "execution_count": 4,
   "metadata": {},
   "outputs": [],
   "source": [
    "# define a connect to postgres sever \n",
    "import psycopg2\n",
    "import pandas as pd\n",
    "def get_db_connection(host, database, username, password):\n",
    "    conn = psycopg2.connect(\n",
    "        host=host,\n",
    "        database=database,\n",
    "        user=username,\n",
    "        password=password\n",
    "    )\n",
    "    \n",
    "    return conn\n",
    "\n",
    "# initialize connection function parameters\n",
    "host = \"localhost\"\n",
    "database = \"World_Port_index\"\n",
    "username = \"postgres\"\n",
    "password = \"kw#s#k00\"\n",
    "\n",
    "# establish a connect\n",
    "con = get_db_connection(host, database, username, password)\n",
    "# create cursor\n",
    "curr = con.cursor()"
   ]
  },
  {
   "cell_type": "code",
   "execution_count": 5,
   "metadata": {},
   "outputs": [
    {
     "data": {
      "text/html": [
       "<div>\n",
       "<style scoped>\n",
       "    .dataframe tbody tr th:only-of-type {\n",
       "        vertical-align: middle;\n",
       "    }\n",
       "\n",
       "    .dataframe tbody tr th {\n",
       "        vertical-align: top;\n",
       "    }\n",
       "\n",
       "    .dataframe thead th {\n",
       "        text-align: right;\n",
       "    }\n",
       "</style>\n",
       "<table border=\"1\" class=\"dataframe\">\n",
       "  <thead>\n",
       "    <tr style=\"text-align: right;\">\n",
       "      <th></th>\n",
       "      <th>Wpi_country_code</th>\n",
       "      <th>port_count</th>\n",
       "    </tr>\n",
       "  </thead>\n",
       "  <tbody>\n",
       "    <tr>\n",
       "      <th>0</th>\n",
       "      <td>US</td>\n",
       "      <td>570</td>\n",
       "    </tr>\n",
       "  </tbody>\n",
       "</table>\n",
       "</div>"
      ],
      "text/plain": [
       "  Wpi_country_code  port_count\n",
       "0               US         570"
      ]
     },
     "execution_count": 5,
     "metadata": {},
     "output_type": "execute_result"
    }
   ],
   "source": [
    "sql = \"\"\"SELECT \"Wpi_country_code\", COUNT(*) AS port_count\n",
    "FROM wpi_data\n",
    "WHERE \"Cargo_pier_depth\" != ''\n",
    "GROUP BY \"Wpi_country_code\"\n",
    "ORDER BY port_count DESC\n",
    "LIMIT 1 \"\"\"\n",
    "\n",
    "pd.read_sql(sql, con)"
   ]
  }
 ],
 "metadata": {
  "kernelspec": {
   "display_name": "Python 3",
   "language": "python",
   "name": "python3"
  },
  "language_info": {
   "codemirror_mode": {
    "name": "ipython",
    "version": 3
   },
   "file_extension": ".py",
   "mimetype": "text/x-python",
   "name": "python",
   "nbconvert_exporter": "python",
   "pygments_lexer": "ipython3",
   "version": "3.8.5"
  }
 },
 "nbformat": 4,
 "nbformat_minor": 4
}
